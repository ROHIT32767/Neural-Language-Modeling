{
 "cells": [
  {
   "cell_type": "markdown",
   "metadata": {},
   "source": [
    "### What is a Tensor?"
   ]
  },
  {
   "cell_type": "code",
   "execution_count": 4,
   "metadata": {},
   "outputs": [],
   "source": [
    "import torch\n",
    "import torchvision.transforms as transforms\n",
    "from torchvision.datasets import MNIST\n",
    "import matplotlib.pyplot as plt"
   ]
  },
  {
   "cell_type": "code",
   "execution_count": 3,
   "metadata": {},
   "outputs": [
    {
     "name": "stdout",
     "output_type": "stream",
     "text": [
      "60000\n",
      "Dataset MNIST\n",
      "    Number of datapoints: 60000\n",
      "    Root location: data/\n",
      "    Split: Train\n"
     ]
    }
   ],
   "source": [
    "dataset = MNIST(root='data/', download=True)\n",
    "print(len(dataset))\n",
    "print(dataset)"
   ]
  },
  {
   "cell_type": "code",
   "execution_count": 131,
   "metadata": {},
   "outputs": [
    {
     "name": "stdout",
     "output_type": "stream",
     "text": [
      "Label: 0\n"
     ]
    },
    {
     "data": {
      "image/png": "[encoded data removed]",
      "text/plain": [
       "<Figure size 640x480 with 1 Axes>"
      ]
     },
     "metadata": {},
     "output_type": "display_data"
    }
   ],
   "source": [
    "image, label = dataset[1]\n",
    "plt.imshow(image, cmap='gray')\n",
    "print('Label:', label)"
   ]
  },
  {
   "cell_type": "code",
   "execution_count": 132,
   "metadata": {},
   "outputs": [
    {
     "name": "stdout",
     "output_type": "stream",
     "text": [
      "Dataset MNIST\n",
      "    Number of datapoints: 60000\n",
      "    Root location: data/\n",
      "    Split: Train\n",
      "    StandardTransform\n",
      "Transform: ToTensor()\n"
     ]
    }
   ],
   "source": [
    "mnist_tensor_dataset = MNIST(root='data/', download=True, transform=transforms.ToTensor())\n",
    "print(mnist_tensor_dataset)"
   ]
  },
  {
   "cell_type": "code",
   "execution_count": 133,
   "metadata": {},
   "outputs": [
    {
     "name": "stdout",
     "output_type": "stream",
     "text": [
      "torch.Size([1, 28, 28]) 0\n"
     ]
    }
   ],
   "source": [
    "image_tensor, label = mnist_tensor_dataset[1]\n",
    "print(image_tensor.shape, label)"
   ]
  },
  {
   "cell_type": "code",
   "execution_count": 134,
   "metadata": {},
   "outputs": [
    {
     "name": "stdout",
     "output_type": "stream",
     "text": [
      "tensor([[[0.9333, 0.9882, 0.9882, 0.7020, 0.0471],\n",
      "         [0.9922, 0.9137, 0.8157, 0.3294, 0.0000],\n",
      "         [0.9412, 0.2784, 0.0745, 0.1098, 0.0000],\n",
      "         [0.2471, 0.0000, 0.0000, 0.0000, 0.0000],\n",
      "         [0.0000, 0.0000, 0.0000, 0.0000, 0.0000]]])\n",
      "tensor(1.) tensor(0.)\n"
     ]
    }
   ],
   "source": [
    "print(image_tensor[:,10:15,10:15])\n",
    "print(torch.max(image_tensor), torch.min(image_tensor))"
   ]
  },
  {
   "cell_type": "code",
   "execution_count": 135,
   "metadata": {},
   "outputs": [
    {
     "data": {
      "text/plain": [
       "<matplotlib.image.AxesImage at 0x2284c6ad670>"
      ]
     },
     "execution_count": 135,
     "metadata": {},
     "output_type": "execute_result"
    },
    {
     "data": {
      "image/png": "[encoded data removed]",
      "text/plain": [
       "<Figure size 640x480 with 1 Axes>"
      ]
     },
     "metadata": {},
     "output_type": "display_data"
    }
   ],
   "source": [
    "plt.imshow(image_tensor[0,:,:],cmap = 'gray')"
   ]
  },
  {
   "cell_type": "code",
   "execution_count": 136,
   "metadata": {},
   "outputs": [
    {
     "name": "stdout",
     "output_type": "stream",
     "text": [
      "50000 10000\n"
     ]
    }
   ],
   "source": [
    "train_data, validation_data = torch.utils.data.random_split(mnist_tensor_dataset, [50000, 10000])\n",
    "print(len(train_data), len(validation_data))"
   ]
  },
  {
   "cell_type": "code",
   "execution_count": 137,
   "metadata": {},
   "outputs": [],
   "source": [
    "BATCH_SIZE = 128\n",
    "train_loader = torch.utils.data.DataLoader(train_data, batch_size=BATCH_SIZE, shuffle=True)\n",
    "val_loader = torch.utils.data.DataLoader(validation_data, batch_size=BATCH_SIZE)"
   ]
  },
  {
   "cell_type": "code",
   "execution_count": 138,
   "metadata": {},
   "outputs": [
    {
     "name": "stdout",
     "output_type": "stream",
     "text": [
      "torch.Size([10, 784]) torch.Size([10])\n"
     ]
    },
    {
     "data": {
      "text/plain": [
       "[Parameter containing:\n",
       " tensor([[-0.0352, -0.0350,  0.0328,  ..., -0.0142, -0.0320, -0.0206],\n",
       "         [ 0.0292, -0.0021, -0.0112,  ...,  0.0102,  0.0008,  0.0044],\n",
       "         [ 0.0275, -0.0076, -0.0273,  ..., -0.0072, -0.0141, -0.0023],\n",
       "         ...,\n",
       "         [-0.0126,  0.0185, -0.0083,  ...,  0.0170,  0.0309,  0.0210],\n",
       "         [-0.0081,  0.0136, -0.0277,  ...,  0.0283, -0.0040,  0.0230],\n",
       "         [-0.0066,  0.0020,  0.0303,  ...,  0.0289,  0.0341,  0.0317]],\n",
       "        requires_grad=True),\n",
       " Parameter containing:\n",
       " tensor([ 0.0060, -0.0065, -0.0046, -0.0328, -0.0197, -0.0076, -0.0136,  0.0058,\n",
       "          0.0019,  0.0318], requires_grad=True)]"
      ]
     },
     "execution_count": 138,
     "metadata": {},
     "output_type": "execute_result"
    }
   ],
   "source": [
    "INPUT_SIZE = 28*28\n",
    "NUM_CLASSES = 10\n",
    "\n",
    "class MnistModel(torch.nn.Module):\n",
    "    def __init__(self):\n",
    "        super().__init__()\n",
    "        self.linear = torch.nn.Linear(INPUT_SIZE, NUM_CLASSES)\n",
    "\n",
    "    def forward(self, xb):\n",
    "        xb = xb.reshape(-1, 784)\n",
    "        out = self.linear(xb)\n",
    "        return out\n",
    "    \n",
    "model = MnistModel()\n",
    "print(model.linear.weight.shape, model.linear.bias.shape)\n",
    "list(model.parameters())"
   ]
  },
  {
   "cell_type": "code",
   "execution_count": 139,
   "metadata": {},
   "outputs": [
    {
     "name": "stdout",
     "output_type": "stream",
     "text": [
      "outputs.shape: torch.Size([128, 10])\n",
      "Sample outputs:\n",
      " tensor([[-0.0249,  0.0500, -0.1840,  0.1590, -0.0027, -0.0857,  0.0716,  0.0144,\n",
      "         -0.1816,  0.1084],\n",
      "        [-0.1737,  0.1690, -0.2583,  0.1339, -0.0817,  0.1908, -0.1559, -0.0297,\n",
      "         -0.0943, -0.1679]])\n"
     ]
    }
   ],
   "source": [
    "for images, labels in train_loader:\n",
    "    outputs = model(images)\n",
    "    break\n",
    "\n",
    "print('outputs.shape:', outputs.shape)\n",
    "print('Sample outputs:\\n', outputs[:2].data)"
   ]
  },
  {
   "cell_type": "code",
   "execution_count": 140,
   "metadata": {},
   "outputs": [
    {
     "name": "stdout",
     "output_type": "stream",
     "text": [
      "Sample probabilities:\n",
      " tensor([[0.0977, 0.1053, 0.0833, 0.1174, 0.0999, 0.0919, 0.1076, 0.1016, 0.0835,\n",
      "         0.1116],\n",
      "        [0.0871, 0.1227, 0.0800, 0.1184, 0.0955, 0.1254, 0.0886, 0.1006, 0.0943,\n",
      "         0.0876]])\n",
      "Sum:  1.0\n"
     ]
    }
   ],
   "source": [
    "probs = torch.nn.functional.softmax(outputs, dim=1)\n",
    "print(\"Sample probabilities:\\n\", probs[:2].data)\n",
    "\n",
    "print(\"Sum: \", torch.sum(probs[0]).item())\n"
   ]
  },
  {
   "cell_type": "code",
   "execution_count": 141,
   "metadata": {},
   "outputs": [],
   "source": [
    "def accuracy(outputs, labels):\n",
    "    _, preds = torch.max(outputs, dim=1)\n",
    "    return torch.tensor(torch.sum(preds == labels).item() / len(preds))"
   ]
  },
  {
   "cell_type": "code",
   "execution_count": 142,
   "metadata": {},
   "outputs": [
    {
     "name": "stdout",
     "output_type": "stream",
     "text": [
      "Loss Function:  <function cross_entropy at 0x0000022836A24360>\n",
      "Loss:  tensor(2.3157, grad_fn=<NllLossBackward0>)\n",
      "tensor([9, 7, 0, 2, 8, 5, 0, 8, 7, 0, 7, 1, 3, 6, 7, 3, 7, 0, 2, 5, 1, 4, 4, 2,\n",
      "        3, 6, 3, 7, 4, 8, 6, 2, 0, 9, 4, 0, 8, 2, 2, 0, 7, 1, 9, 1, 8, 7, 6, 1,\n",
      "        8, 1, 6, 2, 7, 6, 0, 3, 0, 7, 4, 2, 5, 3, 0, 1, 3, 4, 3, 1, 1, 7, 4, 8,\n",
      "        7, 8, 4, 4, 2, 9, 8, 6, 9, 4, 2, 0, 6, 8, 4, 7, 1, 4, 9, 1, 0, 4, 2, 4,\n",
      "        4, 4, 7, 1, 1, 2, 7, 5, 7, 3, 8, 1, 4, 7, 7, 8, 2, 1, 2, 7, 3, 2, 2, 2,\n",
      "        6, 2, 9, 9, 2, 1, 6, 5]) tensor([[-0.0249,  0.0500, -0.1840,  ...,  0.0144, -0.1816,  0.1084],\n",
      "        [-0.1737,  0.1690, -0.2583,  ..., -0.0297, -0.0943, -0.1679],\n",
      "        [ 0.1625,  0.1362,  0.1450,  ..., -0.1017, -0.2414,  0.0176],\n",
      "        ...,\n",
      "        [ 0.0587,  0.0970, -0.3567,  ..., -0.1251, -0.1641,  0.1603],\n",
      "        [ 0.1273,  0.0723, -0.0265,  ..., -0.1086, -0.2247,  0.0802],\n",
      "        [ 0.0531, -0.0407, -0.1322,  ..., -0.5180,  0.0493,  0.2610]],\n",
      "       grad_fn=<AddmmBackward0>)\n"
     ]
    }
   ],
   "source": [
    "loss_fn = torch.nn.functional.cross_entropy\n",
    "print(\"Loss Function: \", loss_fn)\n",
    "print(\"Loss: \", loss_fn(outputs, labels))\n",
    "\n",
    "print(labels, outputs)"
   ]
  },
  {
   "cell_type": "code",
   "execution_count": 143,
   "metadata": {},
   "outputs": [
    {
     "name": "stdout",
     "output_type": "stream",
     "text": [
      "Epoch [1/10], \n",
      " Train Loss: 0.9096\n",
      "Val Loss: 1.0420, Val Acc: 0.6250\n",
      "Epoch [2/10], \n",
      " Train Loss: 0.7169\n",
      "Val Loss: 0.7864, Val Acc: 0.6250\n",
      "Epoch [3/10], \n",
      " Train Loss: 0.5310\n",
      "Val Loss: 0.6905, Val Acc: 0.7500\n",
      "Epoch [4/10], \n",
      " Train Loss: 0.4068\n",
      "Val Loss: 0.6220, Val Acc: 0.7500\n",
      "Epoch [5/10], \n",
      " Train Loss: 0.5855\n",
      "Val Loss: 0.5739, Val Acc: 0.7500\n",
      "Epoch [6/10], \n",
      " Train Loss: 0.4772\n",
      "Val Loss: 0.5391, Val Acc: 0.7500\n",
      "Epoch [7/10], \n",
      " Train Loss: 0.3688\n",
      "Val Loss: 0.5154, Val Acc: 0.7500\n",
      "Epoch [8/10], \n",
      " Train Loss: 0.3519\n",
      "Val Loss: 0.4911, Val Acc: 0.7500\n",
      "Epoch [9/10], \n",
      " Train Loss: 0.3634\n",
      "Val Loss: 0.4737, Val Acc: 0.8125\n",
      "Epoch [10/10], \n",
      " Train Loss: 0.4187\n",
      "Val Loss: 0.4580, Val Acc: 0.8125\n"
     ]
    }
   ],
   "source": [
    "NUM_EPOCHS = 10\n",
    "optimizer = torch.optim.SGD(model.parameters(), lr=0.01)\n",
    "\n",
    "for epoch in range(NUM_EPOCHS):\n",
    "    model.train()\n",
    "    for images, labels in train_loader:\n",
    "        optimizer.zero_grad()\n",
    "        outputs = model(images)\n",
    "        loss = loss_fn(outputs, labels)\n",
    "        loss.backward()\n",
    "        optimizer.step()\n",
    "    print('Epoch [{}/{}], \\n Train Loss: {:.4f}'.format(epoch+1, NUM_EPOCHS, loss.item()))\n",
    "\n",
    "    model.eval()\n",
    "    for images, labels in val_loader:\n",
    "        with torch.no_grad():\n",
    "            outputs = model(images)\n",
    "        loss = loss_fn(outputs, labels)\n",
    "        acc = accuracy(outputs, labels)\n",
    "    print('Val Loss: {:.4f}, Val Acc: {:.4f}'.format(loss.item(), acc.item()))"
   ]
  },
  {
   "cell_type": "code",
   "execution_count": 144,
   "metadata": {},
   "outputs": [],
   "source": [
    "torch.save(model.state_dict(), \"model.pt\")"
   ]
  },
  {
   "cell_type": "code",
   "execution_count": 145,
   "metadata": {},
   "outputs": [
    {
     "name": "stderr",
     "output_type": "stream",
     "text": [
      "C:\\Users\\maitr\\AppData\\Local\\Temp\\ipykernel_27564\\1341322370.py:2: FutureWarning: You are using `torch.load` with `weights_only=False` (the current default value), which uses the default pickle module implicitly. It is possible to construct malicious pickle data which will execute arbitrary code during unpickling (See https://github.com/pytorch/pytorch/blob/main/SECURITY.md#untrusted-models for more details). In a future release, the default value for `weights_only` will be flipped to `True`. This limits the functions that could be executed during unpickling. Arbitrary objects will no longer be allowed to be loaded via this mode unless they are explicitly allowlisted by the user via `torch.serialization.add_safe_globals`. We recommend you start setting `weights_only=True` for any use case where you don't have full control of the loaded file. Please open an issue on GitHub for any issues related to this experimental feature.\n",
      "  model.load_state_dict(torch.load('model.pt'))\n"
     ]
    },
    {
     "data": {
      "text/plain": [
       "<All keys matched successfully>"
      ]
     },
     "execution_count": 145,
     "metadata": {},
     "output_type": "execute_result"
    }
   ],
   "source": [
    "model = MnistModel()\n",
    "model.load_state_dict(torch.load('model.pt'))"
   ]
  },
  {
   "cell_type": "markdown",
   "metadata": {},
   "source": [
    "### How to train on cuda/gpu?"
   ]
  }
 ],
 "metadata": {
  "kernelspec": {
   "display_name": "Python 3",
   "language": "python",
   "name": "python3"
  },
  "language_info": {
   "codemirror_mode": {
    "name": "ipython",
    "version": 3
   },
   "file_extension": ".py",
   "mimetype": "text/x-python",
   "name": "python",
   "nbconvert_exporter": "python",
   "pygments_lexer": "ipython3",
   "version": "3.12.8"
  }
 },
 "nbformat": 4,
 "nbformat_minor": 2
}
